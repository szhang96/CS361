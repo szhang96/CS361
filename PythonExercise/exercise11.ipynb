{
 "cells": [
  {
   "cell_type": "code",
   "execution_count": 36,
   "metadata": {},
   "outputs": [
    {
     "name": "stdout",
     "output_type": "stream",
     "text": [
      "Product of 1,2,3 = 6\n",
      "Product of 2,4,7,8,10 = 4480\n"
     ]
    }
   ],
   "source": [
    "def iterationproduct(list):\n",
    "    count = 0\n",
    "    p = 1\n",
    "    while(count < len(list)):\n",
    "        p = p * list[count]\n",
    "        count = count+1\n",
    "    return p\n",
    "\n",
    "list = [1,2,3]\n",
    "list2 = [2,4,7,8,10]\n",
    "print(\"Product of 1,2,3 =\", iterationproduct(list))\n",
    "print(\"Product of 2,4,7,8,10 =\", iterationproduct(list2))"
   ]
  },
  {
   "cell_type": "code",
   "execution_count": 53,
   "metadata": {},
   "outputs": [
    {
     "name": "stdout",
     "output_type": "stream",
     "text": [
      "Product of 1,2,3 = 6\n",
      "Product of 2,4,7,8,10 = 4480\n",
      "Product of 5 = 5\n"
     ]
    }
   ],
   "source": [
    "def recursionproduct(list):\n",
    "    if (len(list) == 1):\n",
    "        return list[0]\n",
    "    return list[0] * recursionproduct(list[1:])\n",
    "\n",
    "list = [1,2,3]\n",
    "list2 = [2,4,7,8,10]\n",
    "list3 = [5]\n",
    "print(\"Product of 1,2,3 =\", recursionproduct(list))\n",
    "print(\"Product of 2,4,7,8,10 =\", recursionproduct(list2))\n",
    "print(\"Product of 5 =\", recursionproduct(list3))"
   ]
  }
 ],
 "metadata": {
  "kernelspec": {
   "display_name": "Python 3",
   "language": "python",
   "name": "python3"
  },
  "language_info": {
   "codemirror_mode": {
    "name": "ipython",
    "version": 3
   },
   "file_extension": ".py",
   "mimetype": "text/x-python",
   "name": "python",
   "nbconvert_exporter": "python",
   "pygments_lexer": "ipython3",
   "version": "3.6.3"
  }
 },
 "nbformat": 4,
 "nbformat_minor": 2
}
