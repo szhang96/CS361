{
 "cells": [
  {
   "cell_type": "code",
   "execution_count": 15,
   "metadata": {},
   "outputs": [
    {
     "name": "stdout",
     "output_type": "stream",
     "text": [
      "[1, 10, 3, 4, 5, 6]\n",
      "[1, 10, 3, 4, 5, 6]\n",
      "[1, 10, 9, 4, 5, 6]\n",
      "[1, 10, 3, 4, 5, 6]\n"
     ]
    }
   ],
   "source": [
    "a = [1,2,3,4,5,6]\n",
    "b = a\n",
    "b[1] = 10\n",
    "c = a[:]\n",
    "c[2] = 9\n",
    "print(a)\n",
    "print(b)\n",
    "print(c)\n",
    "print(a)"
   ]
  },
  {
   "cell_type": "code",
   "execution_count": 14,
   "metadata": {},
   "outputs": [
    {
     "name": "stdout",
     "output_type": "stream",
     "text": [
      "Before [1, 2, 3, 4, 5]\n",
      "After [0, 2, 3, 4, 5]\n",
      "Before ['r', 't', 'a']\n",
      "After [0, 't', 'a']\n"
     ]
    }
   ],
   "source": [
    "def set_first_elem_to_zero(l):\n",
    "    l[0] = 0\n",
    "    return l\n",
    "\n",
    "list = [1,2,3,4,5]\n",
    "list2 = ['r','t','a']\n",
    "print(\"Before\", list)\n",
    "set_first_elem_to_zero(list)\n",
    "print(\"After\", list)\n",
    "print(\"Before\", list2)\n",
    "set_first_elem_to_zero(list2)\n",
    "print(\"After\", list2)"
   ]
  }
 ],
 "metadata": {
  "kernelspec": {
   "display_name": "Python 3",
   "language": "python",
   "name": "python3"
  },
  "language_info": {
   "codemirror_mode": {
    "name": "ipython",
    "version": 3
   },
   "file_extension": ".py",
   "mimetype": "text/x-python",
   "name": "python",
   "nbconvert_exporter": "python",
   "pygments_lexer": "ipython3",
   "version": "3.6.3"
  }
 },
 "nbformat": 4,
 "nbformat_minor": 2
}
