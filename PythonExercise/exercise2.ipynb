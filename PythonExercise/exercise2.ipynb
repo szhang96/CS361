{
 "cells": [
  {
   "cell_type": "code",
   "execution_count": 5,
   "metadata": {},
   "outputs": [
    {
     "name": "stdout",
     "output_type": "stream",
     "text": [
      "2000.3 ** 200 = returns an error because the value is too big\n",
      "sys.float_info(max=1.7976931348623157e+308, max_exp=1024, max_10_exp=308, min=2.2250738585072014e-308, min_exp=-1021, min_10_exp=-307, dig=15, mant_dig=53, epsilon=2.220446049250313e-16, radix=2, rounds=1)\n",
      "1.0 + 1.0 - 1.0 = 1.0\n",
      "1.0 + 1.0e20 = 1e+20\n",
      "1.0 + 1.0e20 - 1.0e20 = 0.0\n",
      "1e+20\n"
     ]
    }
   ],
   "source": [
    "import sys\n",
    "\n",
    "# a = 2000.3 ** 200 \n",
    "# print(a) RETURNED ERROR BECAUSE RESULT WAS TOO LARGE\n",
    "b = 1.0 + 1.0 - 1.0\n",
    "c = 1.0 + 1.0e20 - 1.0e20\n",
    "print(\"2000.3 ** 200 = returns an error because the value is too big\")\n",
    "print(sys.float_info)\n",
    "print(\"1.0 + 1.0 - 1.0 =\", b)\n",
    "print(\"1.0 + 1.0e20 =\", 1.0 + 1.0e20)\n",
    "print(\"1.0 + 1.0e20 - 1.0e20 =\", c)"
   ]
  }
 ],
 "metadata": {
  "kernelspec": {
   "display_name": "Python 3",
   "language": "python",
   "name": "python3"
  },
  "language_info": {
   "codemirror_mode": {
    "name": "ipython",
    "version": 3
   },
   "file_extension": ".py",
   "mimetype": "text/x-python",
   "name": "python",
   "nbconvert_exporter": "python",
   "pygments_lexer": "ipython3",
   "version": "3.6.3"
  }
 },
 "nbformat": 4,
 "nbformat_minor": 2
}
