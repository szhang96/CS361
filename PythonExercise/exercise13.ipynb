{
 "cells": [
  {
   "cell_type": "code",
   "execution_count": 44,
   "metadata": {},
   "outputs": [
    {
     "name": "stdout",
     "output_type": "stream",
     "text": [
      "Hello alice@stanford.com world!\n",
      "What's up @ life?\n",
      "A Spanish email address end with .es, as in: bob@spain.es but not charlie@germany,de\n",
      "Let's try to find some easy email@addresses.com\n",
      "And some harder ones, such as british@gmail.co.uk, can you find me?\n",
      "This one surely@isn't.com an email address\n",
      "Is your email address bob@gmail.com?\n",
      "really this@must.be.\n",
      "Some things might come really@damn close.\n",
      "Did you know \"very.unusual.@.unusual.com\"@example.com is actually valid email\n",
      "address (see http://en.wikipedia.org/wiki/Email_address)?\n",
      "Did you find them all?\n",
      "\n",
      "Email 1 : alice@stanford.com\n",
      "Email 2 : bob@spain.es\n",
      "Email 3 : email@addresses.com\n",
      "Email 4 : british@gmail.co.uk\n",
      "Email 5 : surely@isn't.com\n",
      "Email 6 : bob@gmail.com\n",
      "Email 7 : this@must.be\n",
      "Email 8 : \"very.unusual.@.unusual.com\"@example.com\n"
     ]
    }
   ],
   "source": [
    "import parser\n",
    "import re\n",
    "\n",
    "#reads the text file and saves text into a string\n",
    "with open('emails.txt') as file:\n",
    "        lines = file.read();\n",
    "\n",
    "regex = r'([\"a-zA-Z0-90\".@!+-{}/!#$%&*=?^_`|~]+@[a-zA-Z0\"-9]+\\.[a-zA-Z''{2,5}]+\\.?[a-zA-Z{2}]+)'\n",
    "pattern  = re.compile(regex)\n",
    "print(lines)\n",
    "emails = pattern.findall(lines)\n",
    "length = int(len(emails))\n",
    "print()\n",
    "for i in range(0,length):\n",
    "    print(\"Email\", i+1, \":\", emails[i])\n",
    "\n"
   ]
  },
  {
   "cell_type": "code",
   "execution_count": null,
   "metadata": {
    "collapsed": true
   },
   "outputs": [],
   "source": []
  },
  {
   "cell_type": "code",
   "execution_count": null,
   "metadata": {
    "collapsed": true
   },
   "outputs": [],
   "source": []
  }
 ],
 "metadata": {
  "kernelspec": {
   "display_name": "Python 3",
   "language": "python",
   "name": "python3"
  },
  "language_info": {
   "codemirror_mode": {
    "name": "ipython",
    "version": 3
   },
   "file_extension": ".py",
   "mimetype": "text/x-python",
   "name": "python",
   "nbconvert_exporter": "python",
   "pygments_lexer": "ipython3",
   "version": "3.6.3"
  }
 },
 "nbformat": 4,
 "nbformat_minor": 2
}
