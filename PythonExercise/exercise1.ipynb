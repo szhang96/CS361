{
 "cells": [
  {
   "cell_type": "code",
   "execution_count": 1,
   "metadata": {
    "scrolled": true
   },
   "outputs": [
    {
     "name": "stdout",
     "output_type": "stream",
     "text": [
      "5 / 3 = 1.6666666666666667\n",
      "5 % 3 = 2\n",
      "5.0 / 3 = 1.3333333333333333\n",
      "5 / 3.0 = 1.6666666666666667\n",
      "5.2 % 3 = 2.2\n"
     ]
    }
   ],
   "source": [
    "a = 5 / 3\n",
    "b = 5%3\n",
    "c = 5.0/3\n",
    "d = 5/ 3.0\n",
    "e = 5.2 % 3\n",
    "print(\"5 / 3 =\", a)\n",
    "print(\"5 % 3 =\", b)\n",
    "print(\"5.0 / 3 =\", c)\n",
    "print(\"5 / 3.0 =\",d)\n",
    "print(\"5.2 % 3 =\", e)"
   ]
  }
 ],
 "metadata": {
  "kernelspec": {
   "display_name": "Python 3",
   "language": "python",
   "name": "python3"
  },
  "language_info": {
   "codemirror_mode": {
    "name": "ipython",
    "version": 3
   },
   "file_extension": ".py",
   "mimetype": "text/x-python",
   "name": "python",
   "nbconvert_exporter": "python",
   "pygments_lexer": "ipython3",
   "version": "3.6.3"
  }
 },
 "nbformat": 4,
 "nbformat_minor": 2
}
