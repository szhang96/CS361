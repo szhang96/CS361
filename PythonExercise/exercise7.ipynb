{
 "cells": [
  {
   "cell_type": "code",
   "execution_count": 27,
   "metadata": {},
   "outputs": [
    {
     "name": "stdout",
     "output_type": "stream",
     "text": [
      "List = \n",
      "1 2 3 4 \n",
      "List2 =\n",
      "a r d s er "
     ]
    }
   ],
   "source": [
    "def printlist(list):\n",
    "    for i in list:\n",
    "        print(i, end =\" \")\n",
    "      \n",
    "        \n",
    "list = [1,2,3,4]\n",
    "list2 = ['a','r','d','s',\"er\"]\n",
    "print(\"List = \")\n",
    "printlist(list)\n",
    "print(\"\\nList2 =\")\n",
    "printlist(list2)"
   ]
  },
  {
   "cell_type": "code",
   "execution_count": 44,
   "metadata": {},
   "outputs": [
    {
     "name": "stdout",
     "output_type": "stream",
     "text": [
      "List = \n",
      "1 2 3 4 Before\n",
      "4 3 2 1 After\n",
      "List2 =\n",
      "a r d s er Before\n",
      "er s d r a After\n"
     ]
    }
   ],
   "source": [
    "def printreversedlist(list):\n",
    "    list.reverse()\n",
    "    for i in list:\n",
    "        print(i, end =\" \")\n",
    "        \n",
    "list = [1,2,3,4]\n",
    "list2 = ['a','r','d','s',\"er\"]\n",
    "print(\"List = \")\n",
    "printlist(list)\n",
    "print(\"Before\")\n",
    "printreversedlist(list)\n",
    "print(\"After\")\n",
    "print(\"List2 =\")\n",
    "printlist(list2) \n",
    "print(\"Before\")\n",
    "printreversedlist(list2)\n",
    "print(\"After\")"
   ]
  },
  {
   "cell_type": "code",
   "execution_count": 50,
   "metadata": {},
   "outputs": [
    {
     "name": "stdout",
     "output_type": "stream",
     "text": [
      "Number of Elements in list = 5\n",
      "Number of Elements in list2 = 4\n",
      "Number of Elements in list3 = 5\n"
     ]
    }
   ],
   "source": [
    "def length(list):\n",
    "    x = 0\n",
    "    for i in list:\n",
    "        x = x+1\n",
    "    return x\n",
    "\n",
    "\n",
    "\n",
    "list = [1,2.3,4.5,10,8]\n",
    "list2 = [1,2,3,4]\n",
    "list3 = ['a','r','d','s',\"er\"]\n",
    "print(\"Number of Elements in list =\", length(list))\n",
    "print(\"Number of Elements in list2 =\", length(list2))\n",
    "print(\"Number of Elements in list3 =\", length(list3))"
   ]
  }
 ],
 "metadata": {
  "kernelspec": {
   "display_name": "Python 3",
   "language": "python",
   "name": "python3"
  },
  "language_info": {
   "codemirror_mode": {
    "name": "ipython",
    "version": 3
   },
   "file_extension": ".py",
   "mimetype": "text/x-python",
   "name": "python",
   "nbconvert_exporter": "python",
   "pygments_lexer": "ipython3",
   "version": "3.6.3"
  }
 },
 "nbformat": 4,
 "nbformat_minor": 2
}
