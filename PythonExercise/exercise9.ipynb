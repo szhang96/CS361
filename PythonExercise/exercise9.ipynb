{
 "cells": [
  {
   "cell_type": "code",
   "execution_count": 6,
   "metadata": {},
   "outputs": [
    {
     "name": "stdout",
     "output_type": "stream",
     "text": [
      "[1, 2, 3, 1, 2, 5, 7, 0, 10]\n",
      "[1, 3, 3, 6]\n",
      "['a', 'l', 'o', 'q', 'e', 't', 'cat', 'rat', 'hat']\n"
     ]
    }
   ],
   "source": [
    "def mergelists(l):\n",
    "    newlist = []\n",
    "    for sublist in l:\n",
    "        for num in sublist:\n",
    "            newlist.append(num)\n",
    "    return newlist\n",
    "\n",
    "list= [[1,2,3],[1,2,5,7] ,[0,10]]\n",
    "list2 = [[1,3], [3,6]]\n",
    "list3 = [['a','l','o'],['q','e','t'], [\"cat\", \"rat\", \"hat\"]]\n",
    "print(mergelists(list))\n",
    "print(mergelists(list2))\n",
    "print(mergelists(list3))"
   ]
  }
 ],
 "metadata": {
  "kernelspec": {
   "display_name": "Python 3",
   "language": "python",
   "name": "python3"
  },
  "language_info": {
   "codemirror_mode": {
    "name": "ipython",
    "version": 3
   },
   "file_extension": ".py",
   "mimetype": "text/x-python",
   "name": "python",
   "nbconvert_exporter": "python",
   "pygments_lexer": "ipython3",
   "version": "3.6.3"
  }
 },
 "nbformat": 4,
 "nbformat_minor": 2
}
