{
 "cells": [
  {
   "cell_type": "code",
   "execution_count": 15,
   "metadata": {},
   "outputs": [
    {
     "name": "stdout",
     "output_type": "stream",
     "text": [
      "float(123) = 123.0\n",
      "float('123') = 123.0\n",
      "float('123.23') = 123.23\n",
      "int(123.23) = 123\n",
      "int('123.23') Returned Error: INVALID LITERAL FOR int() WITH BASE 10: '123.23'\n",
      "int(float('123.23')) = 123\n",
      "str(12) = 12\n",
      "str(12.2) = 12.2\n",
      "bool('a') = True\n",
      "bool(0) = False\n",
      "bool(0.1) = True\n"
     ]
    }
   ],
   "source": [
    "print(\"float(123) =\", float(123))\n",
    "print(\"float('123') =\", float('123'))\n",
    "print(\"float('123.23') =\", float('123.23'))\n",
    "print(\"int(123.23) =\", int(123.23))\n",
    "print(\"int('123.23') Returned Error: INVALID LITERAL FOR int() WITH BASE 10: '123.23'\")\n",
    "print(\"int(float('123.23')) =\", int(float('123.23')))\n",
    "print(\"str(12) =\", str(12))\n",
    "print(\"str(12.2) =\", str(12.2))\n",
    "print(\"bool('a') =\", bool('a'))\n",
    "print(\"bool(0) =\", bool(0))\n",
    "print(\"bool(0.1) =\", bool(0.1))"
   ]
  }
 ],
 "metadata": {
  "kernelspec": {
   "display_name": "Python 3",
   "language": "python",
   "name": "python3"
  },
  "language_info": {
   "codemirror_mode": {
    "name": "ipython",
    "version": 3
   },
   "file_extension": ".py",
   "mimetype": "text/x-python",
   "name": "python",
   "nbconvert_exporter": "python",
   "pygments_lexer": "ipython3",
   "version": "3.6.3"
  }
 },
 "nbformat": 4,
 "nbformat_minor": 2
}
